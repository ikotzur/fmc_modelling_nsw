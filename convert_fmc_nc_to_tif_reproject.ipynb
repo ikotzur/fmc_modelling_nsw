{
 "cells": [
  {
   "cell_type": "code",
   "execution_count": null,
   "id": "98de5608-010c-4045-ad01-e0bd559ff41a",
   "metadata": {},
   "outputs": [],
   "source": [
    "import xarray as xr\n",
    "import glob"
   ]
  },
  {
   "cell_type": "code",
   "execution_count": null,
   "id": "0c1b657c-9948-4f5f-b4a9-4082076b9b69",
   "metadata": {},
   "outputs": [],
   "source": [
    "pth = 'layers/'"
   ]
  },
  {
   "cell_type": "code",
   "execution_count": null,
   "id": "0a194d89-3f4e-4ecc-8f0c-ecb5b69671b7",
   "metadata": {},
   "outputs": [],
   "source": [
    "# Load layers, save a copy as tif, convert tif to epsg=4326 with rio commandline\n",
    "\n",
    "in_paths = pth+f'fmc_nsw_*.nc' # path to tile-combined layers\n",
    "# in_paths = pth+f'layers/tiles/*/*.nc'\n",
    "in_paths = glob.glob(in_paths)\n",
    "for path in in_paths[:1]: # TEMP slice\n",
    "    print(path)\n",
    "    # Open dataset\n",
    "    ds = xr.open_dataset(path)\n",
    "    # Location for output\n",
    "    out_pth = path[:-3]+'.tif'\n",
    "    print(out_pth)\n",
    "    ds.rio.to_raster(out_pth,compress='ZSTD',predictor=2,zlevel=9)\n",
    "    \n",
    "    # Location for output from rio warp in shell\n",
    "    rio_out = out_pth[:-4]+'_30m_4283.tif'\n",
    "    print(rio_out)\n",
    "    # Reproject tif to 30m res, CRS=4283, using rio in shell, use a template tif for formatting using --like\n",
    "    !rio warp {out_pth} {rio_out} --like data/lf_dem1nNV.tif --resampling nearest --co COMPRESS=ZSTD --co PREDICTOR=2 --co ZLEVEL=9"
   ]
  },
  {
   "cell_type": "code",
   "execution_count": null,
   "id": "5fa5a513-b235-45be-a625-5babc331629a",
   "metadata": {},
   "outputs": [],
   "source": [
    "# Check outputs\n",
    "\n",
    "in_paths = pth+f'tiles/*/*.nc'\n",
    "in_paths = glob.glob(in_paths)\n",
    "for path in in_paths[:1]:\n",
    "    print(path)\n",
    "    out_pth = path[:-3]+'.tif'\n",
    "    print(out_pth)\n",
    "    da = xr.open_dataarray(out_pth,chunks='auto').drop('band').squeeze('band')\n",
    "    da.isel(x=slice(0,500),y=slice(0,500)).plot();plt.show()\n",
    "    rio_out = out_pth[:-4]+'_30m_4283.tif'\n",
    "    print(rio_out)\n",
    "    da = xr.open_dataarray(rio_out,chunks='auto').drop('band').squeeze('band')\n",
    "    da.isel(x=slice(0,500),y=slice(0,500)).plot();plt.show()"
   ]
  }
 ],
 "metadata": {
  "kernelspec": {
   "display_name": "Python 3 (ipykernel)",
   "language": "python",
   "name": "python3"
  },
  "language_info": {
   "codemirror_mode": {
    "name": "ipython",
    "version": 3
   },
   "file_extension": ".py",
   "mimetype": "text/x-python",
   "name": "python",
   "nbconvert_exporter": "python",
   "pygments_lexer": "ipython3",
   "version": "3.8.13"
  }
 },
 "nbformat": 4,
 "nbformat_minor": 5
}
